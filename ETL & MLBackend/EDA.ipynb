{
 "cells": [
  {
   "cell_type": "code",
   "execution_count": 3,
   "id": "a977dbd1",
   "metadata": {},
   "outputs": [],
   "source": [
    "import pandas as pd \n",
    "data=pd.read_excel(\"flight_price.xlsx\")"
   ]
  },
  {
   "cell_type": "code",
   "execution_count": 4,
   "id": "e76c728d",
   "metadata": {},
   "outputs": [],
   "source": [
    "columns=list(data.columns)"
   ]
  },
  {
   "cell_type": "code",
   "execution_count": null,
   "id": "c9c9c57b",
   "metadata": {},
   "outputs": [],
   "source": []
  },
  {
   "cell_type": "code",
   "execution_count": 5,
   "id": "06555716",
   "metadata": {},
   "outputs": [
    {
     "name": "stdout",
     "output_type": "stream",
     "text": [
      "['Airline', 'Date_of_Journey', 'Source', 'Destination', 'Route', 'Dep_Time', 'Arrival_Time', 'Duration', 'Total_Stops', 'Additional_Info', 'Price']\n"
     ]
    }
   ],
   "source": [
    "print(columns)"
   ]
  },
  {
   "cell_type": "code",
   "execution_count": 6,
   "id": "6e224fcb",
   "metadata": {},
   "outputs": [],
   "source": [
    "X=data.drop([\"Price\"],axis=1)"
   ]
  },
  {
   "cell_type": "code",
   "execution_count": 7,
   "id": "7d28623f",
   "metadata": {},
   "outputs": [
    {
     "data": {
      "text/plain": [
       "dtype('O')"
      ]
     },
     "execution_count": 7,
     "metadata": {},
     "output_type": "execute_result"
    }
   ],
   "source": [
    "data.columns.dtype"
   ]
  },
  {
   "cell_type": "code",
   "execution_count": 8,
   "id": "e13051a3",
   "metadata": {},
   "outputs": [],
   "source": [
    "num_features=list(data.select_dtypes(int).columns)"
   ]
  },
  {
   "cell_type": "code",
   "execution_count": 9,
   "id": "7f21bdfe",
   "metadata": {},
   "outputs": [],
   "source": [
    "cat_features=list(data.select_dtypes(object).columns)"
   ]
  },
  {
   "cell_type": "code",
   "execution_count": 10,
   "id": "4a45c09c",
   "metadata": {},
   "outputs": [
    {
     "data": {
      "text/plain": [
       "['Price']"
      ]
     },
     "execution_count": 10,
     "metadata": {},
     "output_type": "execute_result"
    }
   ],
   "source": [
    "num_features"
   ]
  },
  {
   "cell_type": "code",
   "execution_count": 11,
   "id": "83d52155",
   "metadata": {},
   "outputs": [],
   "source": [
    "for column in cat_features:\n",
    "    X[column].fillna(X[column].mean)"
   ]
  },
  {
   "cell_type": "code",
   "execution_count": 12,
   "id": "62f63d20",
   "metadata": {},
   "outputs": [
    {
     "data": {
      "text/html": [
       "<div>\n",
       "<style scoped>\n",
       "    .dataframe tbody tr th:only-of-type {\n",
       "        vertical-align: middle;\n",
       "    }\n",
       "\n",
       "    .dataframe tbody tr th {\n",
       "        vertical-align: top;\n",
       "    }\n",
       "\n",
       "    .dataframe thead th {\n",
       "        text-align: right;\n",
       "    }\n",
       "</style>\n",
       "<table border=\"1\" class=\"dataframe\">\n",
       "  <thead>\n",
       "    <tr style=\"text-align: right;\">\n",
       "      <th></th>\n",
       "      <th>Airline</th>\n",
       "      <th>Date_of_Journey</th>\n",
       "      <th>Source</th>\n",
       "      <th>Destination</th>\n",
       "      <th>Route</th>\n",
       "      <th>Dep_Time</th>\n",
       "      <th>Arrival_Time</th>\n",
       "      <th>Duration</th>\n",
       "      <th>Total_Stops</th>\n",
       "      <th>Additional_Info</th>\n",
       "      <th>Price</th>\n",
       "    </tr>\n",
       "  </thead>\n",
       "  <tbody>\n",
       "    <tr>\n",
       "      <th>0</th>\n",
       "      <td>IndiGo</td>\n",
       "      <td>24/03/2019</td>\n",
       "      <td>Banglore</td>\n",
       "      <td>New Delhi</td>\n",
       "      <td>BLR → DEL</td>\n",
       "      <td>22:20</td>\n",
       "      <td>01:10 22 Mar</td>\n",
       "      <td>2h 50m</td>\n",
       "      <td>non-stop</td>\n",
       "      <td>No info</td>\n",
       "      <td>3897</td>\n",
       "    </tr>\n",
       "    <tr>\n",
       "      <th>1</th>\n",
       "      <td>Air India</td>\n",
       "      <td>1/05/2019</td>\n",
       "      <td>Kolkata</td>\n",
       "      <td>Banglore</td>\n",
       "      <td>CCU → IXR → BBI → BLR</td>\n",
       "      <td>05:50</td>\n",
       "      <td>13:15</td>\n",
       "      <td>7h 25m</td>\n",
       "      <td>2 stops</td>\n",
       "      <td>No info</td>\n",
       "      <td>7662</td>\n",
       "    </tr>\n",
       "    <tr>\n",
       "      <th>2</th>\n",
       "      <td>Jet Airways</td>\n",
       "      <td>9/06/2019</td>\n",
       "      <td>Delhi</td>\n",
       "      <td>Cochin</td>\n",
       "      <td>DEL → LKO → BOM → COK</td>\n",
       "      <td>09:25</td>\n",
       "      <td>04:25 10 Jun</td>\n",
       "      <td>19h</td>\n",
       "      <td>2 stops</td>\n",
       "      <td>No info</td>\n",
       "      <td>13882</td>\n",
       "    </tr>\n",
       "    <tr>\n",
       "      <th>3</th>\n",
       "      <td>IndiGo</td>\n",
       "      <td>12/05/2019</td>\n",
       "      <td>Kolkata</td>\n",
       "      <td>Banglore</td>\n",
       "      <td>CCU → NAG → BLR</td>\n",
       "      <td>18:05</td>\n",
       "      <td>23:30</td>\n",
       "      <td>5h 25m</td>\n",
       "      <td>1 stop</td>\n",
       "      <td>No info</td>\n",
       "      <td>6218</td>\n",
       "    </tr>\n",
       "    <tr>\n",
       "      <th>4</th>\n",
       "      <td>IndiGo</td>\n",
       "      <td>01/03/2019</td>\n",
       "      <td>Banglore</td>\n",
       "      <td>New Delhi</td>\n",
       "      <td>BLR → NAG → DEL</td>\n",
       "      <td>16:50</td>\n",
       "      <td>21:35</td>\n",
       "      <td>4h 45m</td>\n",
       "      <td>1 stop</td>\n",
       "      <td>No info</td>\n",
       "      <td>13302</td>\n",
       "    </tr>\n",
       "  </tbody>\n",
       "</table>\n",
       "</div>"
      ],
      "text/plain": [
       "       Airline Date_of_Journey    Source Destination                  Route  \\\n",
       "0       IndiGo      24/03/2019  Banglore   New Delhi              BLR → DEL   \n",
       "1    Air India       1/05/2019   Kolkata    Banglore  CCU → IXR → BBI → BLR   \n",
       "2  Jet Airways       9/06/2019     Delhi      Cochin  DEL → LKO → BOM → COK   \n",
       "3       IndiGo      12/05/2019   Kolkata    Banglore        CCU → NAG → BLR   \n",
       "4       IndiGo      01/03/2019  Banglore   New Delhi        BLR → NAG → DEL   \n",
       "\n",
       "  Dep_Time  Arrival_Time Duration Total_Stops Additional_Info  Price  \n",
       "0    22:20  01:10 22 Mar   2h 50m    non-stop         No info   3897  \n",
       "1    05:50         13:15   7h 25m     2 stops         No info   7662  \n",
       "2    09:25  04:25 10 Jun      19h     2 stops         No info  13882  \n",
       "3    18:05         23:30   5h 25m      1 stop         No info   6218  \n",
       "4    16:50         21:35   4h 45m      1 stop         No info  13302  "
      ]
     },
     "execution_count": 12,
     "metadata": {},
     "output_type": "execute_result"
    }
   ],
   "source": [
    "data.head()"
   ]
  },
  {
   "cell_type": "code",
   "execution_count": 13,
   "id": "1c8694f8",
   "metadata": {},
   "outputs": [],
   "source": [
    "df = [[columns.lower() for columns in data]]\n"
   ]
  },
  {
   "cell_type": "code",
   "execution_count": 14,
   "id": "51928cff",
   "metadata": {},
   "outputs": [],
   "source": [
    "d1 = data.map(lambda s: s.lower() if type(s) == str else s)"
   ]
  },
  {
   "cell_type": "code",
   "execution_count": 15,
   "id": "1657d6ec",
   "metadata": {},
   "outputs": [
    {
     "data": {
      "text/html": [
       "<div>\n",
       "<style scoped>\n",
       "    .dataframe tbody tr th:only-of-type {\n",
       "        vertical-align: middle;\n",
       "    }\n",
       "\n",
       "    .dataframe tbody tr th {\n",
       "        vertical-align: top;\n",
       "    }\n",
       "\n",
       "    .dataframe thead th {\n",
       "        text-align: right;\n",
       "    }\n",
       "</style>\n",
       "<table border=\"1\" class=\"dataframe\">\n",
       "  <thead>\n",
       "    <tr style=\"text-align: right;\">\n",
       "      <th></th>\n",
       "      <th>Airline</th>\n",
       "      <th>Date_of_Journey</th>\n",
       "      <th>Source</th>\n",
       "      <th>Destination</th>\n",
       "      <th>Route</th>\n",
       "      <th>Dep_Time</th>\n",
       "      <th>Arrival_Time</th>\n",
       "      <th>Duration</th>\n",
       "      <th>Total_Stops</th>\n",
       "      <th>Additional_Info</th>\n",
       "      <th>Price</th>\n",
       "    </tr>\n",
       "  </thead>\n",
       "  <tbody>\n",
       "    <tr>\n",
       "      <th>0</th>\n",
       "      <td>indigo</td>\n",
       "      <td>24/03/2019</td>\n",
       "      <td>banglore</td>\n",
       "      <td>new delhi</td>\n",
       "      <td>blr → del</td>\n",
       "      <td>22:20</td>\n",
       "      <td>01:10 22 mar</td>\n",
       "      <td>2h 50m</td>\n",
       "      <td>non-stop</td>\n",
       "      <td>no info</td>\n",
       "      <td>3897</td>\n",
       "    </tr>\n",
       "    <tr>\n",
       "      <th>1</th>\n",
       "      <td>air india</td>\n",
       "      <td>1/05/2019</td>\n",
       "      <td>kolkata</td>\n",
       "      <td>banglore</td>\n",
       "      <td>ccu → ixr → bbi → blr</td>\n",
       "      <td>05:50</td>\n",
       "      <td>13:15</td>\n",
       "      <td>7h 25m</td>\n",
       "      <td>2 stops</td>\n",
       "      <td>no info</td>\n",
       "      <td>7662</td>\n",
       "    </tr>\n",
       "    <tr>\n",
       "      <th>2</th>\n",
       "      <td>jet airways</td>\n",
       "      <td>9/06/2019</td>\n",
       "      <td>delhi</td>\n",
       "      <td>cochin</td>\n",
       "      <td>del → lko → bom → cok</td>\n",
       "      <td>09:25</td>\n",
       "      <td>04:25 10 jun</td>\n",
       "      <td>19h</td>\n",
       "      <td>2 stops</td>\n",
       "      <td>no info</td>\n",
       "      <td>13882</td>\n",
       "    </tr>\n",
       "    <tr>\n",
       "      <th>3</th>\n",
       "      <td>indigo</td>\n",
       "      <td>12/05/2019</td>\n",
       "      <td>kolkata</td>\n",
       "      <td>banglore</td>\n",
       "      <td>ccu → nag → blr</td>\n",
       "      <td>18:05</td>\n",
       "      <td>23:30</td>\n",
       "      <td>5h 25m</td>\n",
       "      <td>1 stop</td>\n",
       "      <td>no info</td>\n",
       "      <td>6218</td>\n",
       "    </tr>\n",
       "    <tr>\n",
       "      <th>4</th>\n",
       "      <td>indigo</td>\n",
       "      <td>01/03/2019</td>\n",
       "      <td>banglore</td>\n",
       "      <td>new delhi</td>\n",
       "      <td>blr → nag → del</td>\n",
       "      <td>16:50</td>\n",
       "      <td>21:35</td>\n",
       "      <td>4h 45m</td>\n",
       "      <td>1 stop</td>\n",
       "      <td>no info</td>\n",
       "      <td>13302</td>\n",
       "    </tr>\n",
       "  </tbody>\n",
       "</table>\n",
       "</div>"
      ],
      "text/plain": [
       "       Airline Date_of_Journey    Source Destination                  Route  \\\n",
       "0       indigo      24/03/2019  banglore   new delhi              blr → del   \n",
       "1    air india       1/05/2019   kolkata    banglore  ccu → ixr → bbi → blr   \n",
       "2  jet airways       9/06/2019     delhi      cochin  del → lko → bom → cok   \n",
       "3       indigo      12/05/2019   kolkata    banglore        ccu → nag → blr   \n",
       "4       indigo      01/03/2019  banglore   new delhi        blr → nag → del   \n",
       "\n",
       "  Dep_Time  Arrival_Time Duration Total_Stops Additional_Info  Price  \n",
       "0    22:20  01:10 22 mar   2h 50m    non-stop         no info   3897  \n",
       "1    05:50         13:15   7h 25m     2 stops         no info   7662  \n",
       "2    09:25  04:25 10 jun      19h     2 stops         no info  13882  \n",
       "3    18:05         23:30   5h 25m      1 stop         no info   6218  \n",
       "4    16:50         21:35   4h 45m      1 stop         no info  13302  "
      ]
     },
     "execution_count": 15,
     "metadata": {},
     "output_type": "execute_result"
    }
   ],
   "source": [
    "d1.head()"
   ]
  },
  {
   "cell_type": "code",
   "execution_count": 16,
   "id": "f29b1c0f",
   "metadata": {},
   "outputs": [
    {
     "data": {
      "text/plain": [
       "dtype('int64')"
      ]
     },
     "execution_count": 16,
     "metadata": {},
     "output_type": "execute_result"
    }
   ],
   "source": [
    "d1['Price'].dtype"
   ]
  },
  {
   "cell_type": "code",
   "execution_count": 17,
   "id": "89b03be6",
   "metadata": {},
   "outputs": [
    {
     "data": {
      "text/html": [
       "<div>\n",
       "<style scoped>\n",
       "    .dataframe tbody tr th:only-of-type {\n",
       "        vertical-align: middle;\n",
       "    }\n",
       "\n",
       "    .dataframe tbody tr th {\n",
       "        vertical-align: top;\n",
       "    }\n",
       "\n",
       "    .dataframe thead th {\n",
       "        text-align: right;\n",
       "    }\n",
       "</style>\n",
       "<table border=\"1\" class=\"dataframe\">\n",
       "  <thead>\n",
       "    <tr style=\"text-align: right;\">\n",
       "      <th></th>\n",
       "      <th>Airline</th>\n",
       "      <th>Date_of_Journey</th>\n",
       "      <th>Source</th>\n",
       "      <th>Destination</th>\n",
       "      <th>Route</th>\n",
       "      <th>Dep_Time</th>\n",
       "      <th>Arrival_Time</th>\n",
       "      <th>Duration</th>\n",
       "      <th>Total_Stops</th>\n",
       "      <th>Additional_Info</th>\n",
       "      <th>Price</th>\n",
       "    </tr>\n",
       "  </thead>\n",
       "  <tbody>\n",
       "    <tr>\n",
       "      <th>0</th>\n",
       "      <td>indigo</td>\n",
       "      <td>24/03/2019</td>\n",
       "      <td>banglore</td>\n",
       "      <td>new delhi</td>\n",
       "      <td>blr → del</td>\n",
       "      <td>22:20</td>\n",
       "      <td>01:10 22 mar</td>\n",
       "      <td>2h 50m</td>\n",
       "      <td>non-stop</td>\n",
       "      <td>no info</td>\n",
       "      <td>3897</td>\n",
       "    </tr>\n",
       "    <tr>\n",
       "      <th>1</th>\n",
       "      <td>air india</td>\n",
       "      <td>1/05/2019</td>\n",
       "      <td>kolkata</td>\n",
       "      <td>banglore</td>\n",
       "      <td>ccu → ixr → bbi → blr</td>\n",
       "      <td>05:50</td>\n",
       "      <td>13:15</td>\n",
       "      <td>7h 25m</td>\n",
       "      <td>2 stops</td>\n",
       "      <td>no info</td>\n",
       "      <td>7662</td>\n",
       "    </tr>\n",
       "    <tr>\n",
       "      <th>2</th>\n",
       "      <td>jet airways</td>\n",
       "      <td>9/06/2019</td>\n",
       "      <td>delhi</td>\n",
       "      <td>cochin</td>\n",
       "      <td>del → lko → bom → cok</td>\n",
       "      <td>09:25</td>\n",
       "      <td>04:25 10 jun</td>\n",
       "      <td>19h</td>\n",
       "      <td>2 stops</td>\n",
       "      <td>no info</td>\n",
       "      <td>13882</td>\n",
       "    </tr>\n",
       "    <tr>\n",
       "      <th>3</th>\n",
       "      <td>indigo</td>\n",
       "      <td>12/05/2019</td>\n",
       "      <td>kolkata</td>\n",
       "      <td>banglore</td>\n",
       "      <td>ccu → nag → blr</td>\n",
       "      <td>18:05</td>\n",
       "      <td>23:30</td>\n",
       "      <td>5h 25m</td>\n",
       "      <td>1 stop</td>\n",
       "      <td>no info</td>\n",
       "      <td>6218</td>\n",
       "    </tr>\n",
       "    <tr>\n",
       "      <th>4</th>\n",
       "      <td>indigo</td>\n",
       "      <td>01/03/2019</td>\n",
       "      <td>banglore</td>\n",
       "      <td>new delhi</td>\n",
       "      <td>blr → nag → del</td>\n",
       "      <td>16:50</td>\n",
       "      <td>21:35</td>\n",
       "      <td>4h 45m</td>\n",
       "      <td>1 stop</td>\n",
       "      <td>no info</td>\n",
       "      <td>13302</td>\n",
       "    </tr>\n",
       "    <tr>\n",
       "      <th>...</th>\n",
       "      <td>...</td>\n",
       "      <td>...</td>\n",
       "      <td>...</td>\n",
       "      <td>...</td>\n",
       "      <td>...</td>\n",
       "      <td>...</td>\n",
       "      <td>...</td>\n",
       "      <td>...</td>\n",
       "      <td>...</td>\n",
       "      <td>...</td>\n",
       "      <td>...</td>\n",
       "    </tr>\n",
       "    <tr>\n",
       "      <th>10678</th>\n",
       "      <td>air asia</td>\n",
       "      <td>9/04/2019</td>\n",
       "      <td>kolkata</td>\n",
       "      <td>banglore</td>\n",
       "      <td>ccu → blr</td>\n",
       "      <td>19:55</td>\n",
       "      <td>22:25</td>\n",
       "      <td>2h 30m</td>\n",
       "      <td>non-stop</td>\n",
       "      <td>no info</td>\n",
       "      <td>4107</td>\n",
       "    </tr>\n",
       "    <tr>\n",
       "      <th>10679</th>\n",
       "      <td>air india</td>\n",
       "      <td>27/04/2019</td>\n",
       "      <td>kolkata</td>\n",
       "      <td>banglore</td>\n",
       "      <td>ccu → blr</td>\n",
       "      <td>20:45</td>\n",
       "      <td>23:20</td>\n",
       "      <td>2h 35m</td>\n",
       "      <td>non-stop</td>\n",
       "      <td>no info</td>\n",
       "      <td>4145</td>\n",
       "    </tr>\n",
       "    <tr>\n",
       "      <th>10680</th>\n",
       "      <td>jet airways</td>\n",
       "      <td>27/04/2019</td>\n",
       "      <td>banglore</td>\n",
       "      <td>delhi</td>\n",
       "      <td>blr → del</td>\n",
       "      <td>08:20</td>\n",
       "      <td>11:20</td>\n",
       "      <td>3h</td>\n",
       "      <td>non-stop</td>\n",
       "      <td>no info</td>\n",
       "      <td>7229</td>\n",
       "    </tr>\n",
       "    <tr>\n",
       "      <th>10681</th>\n",
       "      <td>vistara</td>\n",
       "      <td>01/03/2019</td>\n",
       "      <td>banglore</td>\n",
       "      <td>new delhi</td>\n",
       "      <td>blr → del</td>\n",
       "      <td>11:30</td>\n",
       "      <td>14:10</td>\n",
       "      <td>2h 40m</td>\n",
       "      <td>non-stop</td>\n",
       "      <td>no info</td>\n",
       "      <td>12648</td>\n",
       "    </tr>\n",
       "    <tr>\n",
       "      <th>10682</th>\n",
       "      <td>air india</td>\n",
       "      <td>9/05/2019</td>\n",
       "      <td>delhi</td>\n",
       "      <td>cochin</td>\n",
       "      <td>del → goi → bom → cok</td>\n",
       "      <td>10:55</td>\n",
       "      <td>19:15</td>\n",
       "      <td>8h 20m</td>\n",
       "      <td>2 stops</td>\n",
       "      <td>no info</td>\n",
       "      <td>11753</td>\n",
       "    </tr>\n",
       "  </tbody>\n",
       "</table>\n",
       "<p>10463 rows × 11 columns</p>\n",
       "</div>"
      ],
      "text/plain": [
       "           Airline Date_of_Journey    Source Destination  \\\n",
       "0           indigo      24/03/2019  banglore   new delhi   \n",
       "1        air india       1/05/2019   kolkata    banglore   \n",
       "2      jet airways       9/06/2019     delhi      cochin   \n",
       "3           indigo      12/05/2019   kolkata    banglore   \n",
       "4           indigo      01/03/2019  banglore   new delhi   \n",
       "...            ...             ...       ...         ...   \n",
       "10678     air asia       9/04/2019   kolkata    banglore   \n",
       "10679    air india      27/04/2019   kolkata    banglore   \n",
       "10680  jet airways      27/04/2019  banglore       delhi   \n",
       "10681      vistara      01/03/2019  banglore   new delhi   \n",
       "10682    air india       9/05/2019     delhi      cochin   \n",
       "\n",
       "                       Route Dep_Time  Arrival_Time Duration Total_Stops  \\\n",
       "0                  blr → del    22:20  01:10 22 mar   2h 50m    non-stop   \n",
       "1      ccu → ixr → bbi → blr    05:50         13:15   7h 25m     2 stops   \n",
       "2      del → lko → bom → cok    09:25  04:25 10 jun      19h     2 stops   \n",
       "3            ccu → nag → blr    18:05         23:30   5h 25m      1 stop   \n",
       "4            blr → nag → del    16:50         21:35   4h 45m      1 stop   \n",
       "...                      ...      ...           ...      ...         ...   \n",
       "10678              ccu → blr    19:55         22:25   2h 30m    non-stop   \n",
       "10679              ccu → blr    20:45         23:20   2h 35m    non-stop   \n",
       "10680              blr → del    08:20         11:20       3h    non-stop   \n",
       "10681              blr → del    11:30         14:10   2h 40m    non-stop   \n",
       "10682  del → goi → bom → cok    10:55         19:15   8h 20m     2 stops   \n",
       "\n",
       "      Additional_Info  Price  \n",
       "0             no info   3897  \n",
       "1             no info   7662  \n",
       "2             no info  13882  \n",
       "3             no info   6218  \n",
       "4             no info  13302  \n",
       "...               ...    ...  \n",
       "10678         no info   4107  \n",
       "10679         no info   4145  \n",
       "10680         no info   7229  \n",
       "10681         no info  12648  \n",
       "10682         no info  11753  \n",
       "\n",
       "[10463 rows x 11 columns]"
      ]
     },
     "execution_count": 17,
     "metadata": {},
     "output_type": "execute_result"
    }
   ],
   "source": [
    "d1.drop_duplicates()"
   ]
  },
  {
   "cell_type": "code",
   "execution_count": 18,
   "id": "3e745bc0",
   "metadata": {},
   "outputs": [
    {
     "data": {
      "text/html": [
       "<div>\n",
       "<style scoped>\n",
       "    .dataframe tbody tr th:only-of-type {\n",
       "        vertical-align: middle;\n",
       "    }\n",
       "\n",
       "    .dataframe tbody tr th {\n",
       "        vertical-align: top;\n",
       "    }\n",
       "\n",
       "    .dataframe thead th {\n",
       "        text-align: right;\n",
       "    }\n",
       "</style>\n",
       "<table border=\"1\" class=\"dataframe\">\n",
       "  <thead>\n",
       "    <tr style=\"text-align: right;\">\n",
       "      <th></th>\n",
       "      <th>Airline</th>\n",
       "      <th>Date_of_Journey</th>\n",
       "      <th>Source</th>\n",
       "      <th>Destination</th>\n",
       "      <th>Route</th>\n",
       "      <th>Dep_Time</th>\n",
       "      <th>Arrival_Time</th>\n",
       "      <th>Duration</th>\n",
       "      <th>Total_Stops</th>\n",
       "      <th>Additional_Info</th>\n",
       "      <th>Price</th>\n",
       "    </tr>\n",
       "  </thead>\n",
       "  <tbody>\n",
       "    <tr>\n",
       "      <th>0</th>\n",
       "      <td>indigo</td>\n",
       "      <td>24/03/2019</td>\n",
       "      <td>banglore</td>\n",
       "      <td>new delhi</td>\n",
       "      <td>blr → del</td>\n",
       "      <td>22:20</td>\n",
       "      <td>01:10 22 mar</td>\n",
       "      <td>2h 50m</td>\n",
       "      <td>non-stop</td>\n",
       "      <td>no info</td>\n",
       "      <td>3897</td>\n",
       "    </tr>\n",
       "    <tr>\n",
       "      <th>1</th>\n",
       "      <td>air india</td>\n",
       "      <td>1/05/2019</td>\n",
       "      <td>kolkata</td>\n",
       "      <td>banglore</td>\n",
       "      <td>ccu → ixr → bbi → blr</td>\n",
       "      <td>05:50</td>\n",
       "      <td>13:15</td>\n",
       "      <td>7h 25m</td>\n",
       "      <td>2 stops</td>\n",
       "      <td>no info</td>\n",
       "      <td>7662</td>\n",
       "    </tr>\n",
       "    <tr>\n",
       "      <th>2</th>\n",
       "      <td>jet airways</td>\n",
       "      <td>9/06/2019</td>\n",
       "      <td>delhi</td>\n",
       "      <td>cochin</td>\n",
       "      <td>del → lko → bom → cok</td>\n",
       "      <td>09:25</td>\n",
       "      <td>04:25 10 jun</td>\n",
       "      <td>19h</td>\n",
       "      <td>2 stops</td>\n",
       "      <td>no info</td>\n",
       "      <td>13882</td>\n",
       "    </tr>\n",
       "    <tr>\n",
       "      <th>3</th>\n",
       "      <td>indigo</td>\n",
       "      <td>12/05/2019</td>\n",
       "      <td>kolkata</td>\n",
       "      <td>banglore</td>\n",
       "      <td>ccu → nag → blr</td>\n",
       "      <td>18:05</td>\n",
       "      <td>23:30</td>\n",
       "      <td>5h 25m</td>\n",
       "      <td>1 stop</td>\n",
       "      <td>no info</td>\n",
       "      <td>6218</td>\n",
       "    </tr>\n",
       "    <tr>\n",
       "      <th>4</th>\n",
       "      <td>indigo</td>\n",
       "      <td>01/03/2019</td>\n",
       "      <td>banglore</td>\n",
       "      <td>new delhi</td>\n",
       "      <td>blr → nag → del</td>\n",
       "      <td>16:50</td>\n",
       "      <td>21:35</td>\n",
       "      <td>4h 45m</td>\n",
       "      <td>1 stop</td>\n",
       "      <td>no info</td>\n",
       "      <td>13302</td>\n",
       "    </tr>\n",
       "    <tr>\n",
       "      <th>...</th>\n",
       "      <td>...</td>\n",
       "      <td>...</td>\n",
       "      <td>...</td>\n",
       "      <td>...</td>\n",
       "      <td>...</td>\n",
       "      <td>...</td>\n",
       "      <td>...</td>\n",
       "      <td>...</td>\n",
       "      <td>...</td>\n",
       "      <td>...</td>\n",
       "      <td>...</td>\n",
       "    </tr>\n",
       "    <tr>\n",
       "      <th>10678</th>\n",
       "      <td>air asia</td>\n",
       "      <td>9/04/2019</td>\n",
       "      <td>kolkata</td>\n",
       "      <td>banglore</td>\n",
       "      <td>ccu → blr</td>\n",
       "      <td>19:55</td>\n",
       "      <td>22:25</td>\n",
       "      <td>2h 30m</td>\n",
       "      <td>non-stop</td>\n",
       "      <td>no info</td>\n",
       "      <td>4107</td>\n",
       "    </tr>\n",
       "    <tr>\n",
       "      <th>10679</th>\n",
       "      <td>air india</td>\n",
       "      <td>27/04/2019</td>\n",
       "      <td>kolkata</td>\n",
       "      <td>banglore</td>\n",
       "      <td>ccu → blr</td>\n",
       "      <td>20:45</td>\n",
       "      <td>23:20</td>\n",
       "      <td>2h 35m</td>\n",
       "      <td>non-stop</td>\n",
       "      <td>no info</td>\n",
       "      <td>4145</td>\n",
       "    </tr>\n",
       "    <tr>\n",
       "      <th>10680</th>\n",
       "      <td>jet airways</td>\n",
       "      <td>27/04/2019</td>\n",
       "      <td>banglore</td>\n",
       "      <td>delhi</td>\n",
       "      <td>blr → del</td>\n",
       "      <td>08:20</td>\n",
       "      <td>11:20</td>\n",
       "      <td>3h</td>\n",
       "      <td>non-stop</td>\n",
       "      <td>no info</td>\n",
       "      <td>7229</td>\n",
       "    </tr>\n",
       "    <tr>\n",
       "      <th>10681</th>\n",
       "      <td>vistara</td>\n",
       "      <td>01/03/2019</td>\n",
       "      <td>banglore</td>\n",
       "      <td>new delhi</td>\n",
       "      <td>blr → del</td>\n",
       "      <td>11:30</td>\n",
       "      <td>14:10</td>\n",
       "      <td>2h 40m</td>\n",
       "      <td>non-stop</td>\n",
       "      <td>no info</td>\n",
       "      <td>12648</td>\n",
       "    </tr>\n",
       "    <tr>\n",
       "      <th>10682</th>\n",
       "      <td>air india</td>\n",
       "      <td>9/05/2019</td>\n",
       "      <td>delhi</td>\n",
       "      <td>cochin</td>\n",
       "      <td>del → goi → bom → cok</td>\n",
       "      <td>10:55</td>\n",
       "      <td>19:15</td>\n",
       "      <td>8h 20m</td>\n",
       "      <td>2 stops</td>\n",
       "      <td>no info</td>\n",
       "      <td>11753</td>\n",
       "    </tr>\n",
       "  </tbody>\n",
       "</table>\n",
       "<p>10683 rows × 11 columns</p>\n",
       "</div>"
      ],
      "text/plain": [
       "           Airline Date_of_Journey    Source Destination  \\\n",
       "0           indigo      24/03/2019  banglore   new delhi   \n",
       "1        air india       1/05/2019   kolkata    banglore   \n",
       "2      jet airways       9/06/2019     delhi      cochin   \n",
       "3           indigo      12/05/2019   kolkata    banglore   \n",
       "4           indigo      01/03/2019  banglore   new delhi   \n",
       "...            ...             ...       ...         ...   \n",
       "10678     air asia       9/04/2019   kolkata    banglore   \n",
       "10679    air india      27/04/2019   kolkata    banglore   \n",
       "10680  jet airways      27/04/2019  banglore       delhi   \n",
       "10681      vistara      01/03/2019  banglore   new delhi   \n",
       "10682    air india       9/05/2019     delhi      cochin   \n",
       "\n",
       "                       Route Dep_Time  Arrival_Time Duration Total_Stops  \\\n",
       "0                  blr → del    22:20  01:10 22 mar   2h 50m    non-stop   \n",
       "1      ccu → ixr → bbi → blr    05:50         13:15   7h 25m     2 stops   \n",
       "2      del → lko → bom → cok    09:25  04:25 10 jun      19h     2 stops   \n",
       "3            ccu → nag → blr    18:05         23:30   5h 25m      1 stop   \n",
       "4            blr → nag → del    16:50         21:35   4h 45m      1 stop   \n",
       "...                      ...      ...           ...      ...         ...   \n",
       "10678              ccu → blr    19:55         22:25   2h 30m    non-stop   \n",
       "10679              ccu → blr    20:45         23:20   2h 35m    non-stop   \n",
       "10680              blr → del    08:20         11:20       3h    non-stop   \n",
       "10681              blr → del    11:30         14:10   2h 40m    non-stop   \n",
       "10682  del → goi → bom → cok    10:55         19:15   8h 20m     2 stops   \n",
       "\n",
       "      Additional_Info  Price  \n",
       "0             no info   3897  \n",
       "1             no info   7662  \n",
       "2             no info  13882  \n",
       "3             no info   6218  \n",
       "4             no info  13302  \n",
       "...               ...    ...  \n",
       "10678         no info   4107  \n",
       "10679         no info   4145  \n",
       "10680         no info   7229  \n",
       "10681         no info  12648  \n",
       "10682         no info  11753  \n",
       "\n",
       "[10683 rows x 11 columns]"
      ]
     },
     "execution_count": 18,
     "metadata": {},
     "output_type": "execute_result"
    }
   ],
   "source": [
    "d1"
   ]
  },
  {
   "cell_type": "code",
   "execution_count": 19,
   "id": "16036cdb",
   "metadata": {},
   "outputs": [],
   "source": [
    "for x in data.columns:\n",
    "    if (x==\"date\"):\n",
    "        print(\"yes\")"
   ]
  },
  {
   "cell_type": "code",
   "execution_count": 20,
   "id": "116263df",
   "metadata": {},
   "outputs": [
    {
     "name": "stdout",
     "output_type": "stream",
     "text": [
      "yes\n"
     ]
    }
   ],
   "source": [
    "for x in data.columns:\n",
    "    if(x==\"Date_of_Journey\"):\n",
    "        print(\"yes\")    "
   ]
  },
  {
   "cell_type": "code",
   "execution_count": 21,
   "id": "ed16fbb6",
   "metadata": {},
   "outputs": [],
   "source": [
    "Numerical_features=list(data.select_dtypes(int).columns)\n",
    "\n",
    "Categorial_features=list(data.select_dtypes(object).columns)"
   ]
  },
  {
   "cell_type": "code",
   "execution_count": 23,
   "id": "42cc1417",
   "metadata": {},
   "outputs": [
    {
     "data": {
      "text/plain": [
       "['Airline',\n",
       " 'Date_of_Journey',\n",
       " 'Source',\n",
       " 'Destination',\n",
       " 'Route',\n",
       " 'Dep_Time',\n",
       " 'Arrival_Time',\n",
       " 'Duration',\n",
       " 'Total_Stops',\n",
       " 'Additional_Info']"
      ]
     },
     "execution_count": 23,
     "metadata": {},
     "output_type": "execute_result"
    }
   ],
   "source": [
    "Categorial_features"
   ]
  },
  {
   "cell_type": "code",
   "execution_count": 24,
   "id": "cd66987a",
   "metadata": {},
   "outputs": [],
   "source": [
    "Target_columns=\"Price\"\n"
   ]
  },
  {
   "cell_type": "code",
   "execution_count": 25,
   "id": "8875bc6a",
   "metadata": {},
   "outputs": [],
   "source": [
    "Numerical_features.remove(Target_columns)"
   ]
  },
  {
   "cell_type": "code",
   "execution_count": 26,
   "id": "633ab8c9",
   "metadata": {},
   "outputs": [],
   "source": [
    "from sklearn.model_selection import train_test_split\n",
    "\n",
    "train,test=train_test_split(data,test_size=0.2,random_state=42)"
   ]
  },
  {
   "cell_type": "code",
   "execution_count": 27,
   "id": "1dc3721b",
   "metadata": {},
   "outputs": [
    {
     "data": {
      "text/plain": [
       "(8546, 11)"
      ]
     },
     "execution_count": 27,
     "metadata": {},
     "output_type": "execute_result"
    }
   ],
   "source": [
    "train.shape"
   ]
  },
  {
   "cell_type": "code",
   "execution_count": 28,
   "id": "3f3da298",
   "metadata": {},
   "outputs": [
    {
     "data": {
      "text/plain": [
       "(2137, 11)"
      ]
     },
     "execution_count": 28,
     "metadata": {},
     "output_type": "execute_result"
    }
   ],
   "source": [
    "test.shape"
   ]
  },
  {
   "cell_type": "code",
   "execution_count": 29,
   "id": "00c5fbcd",
   "metadata": {},
   "outputs": [],
   "source": [
    "X=data.drop(Target_columns,axis=1) # input data\n",
    "Y=data[Target_columns] #Output data"
   ]
  },
  {
   "cell_type": "code",
   "execution_count": null,
   "id": "b333ca2a",
   "metadata": {},
   "outputs": [
    {
     "ename": "NameError",
     "evalue": "name 'np' is not defined",
     "output_type": "error",
     "traceback": [
      "\u001b[1;31m---------------------------------------------------------------------------\u001b[0m",
      "\u001b[1;31mNameError\u001b[0m                                 Traceback (most recent call last)",
      "Cell \u001b[1;32mIn[1], line 1\u001b[0m\n\u001b[1;32m----> 1\u001b[0m train_arr \u001b[38;5;241m=\u001b[39m np\u001b[38;5;241m.\u001b[39mc_[ input_feature_train_arr,np\u001b[38;5;241m.\u001b[39marray(target_features_train_df)]\n\u001b[0;32m      2\u001b[0m test_arr \u001b[38;5;241m=\u001b[39m np\u001b[38;5;241m.\u001b[39mc_[input_feature_test_arr,np\u001b[38;5;241m.\u001b[39marray(target_features_test_df)]\n",
      "\u001b[1;31mNameError\u001b[0m: name 'np' is not defined"
     ]
    }
   ],
   "source": [
    "train_arr = np.c_[ input_feature_train_arr,np.array(target_features_train_df)]\n",
    "test_arr = np.c_[input_feature_test_arr,np.array(target_features_test_df)]"
   ]
  },
  {
   "cell_type": "code",
   "execution_count": 31,
   "id": "ec4b777e",
   "metadata": {},
   "outputs": [],
   "source": [
    "import numpy as np\n",
    "target_column_name=\"Price\"#from configuration file\n",
    "\n",
    "input_feature_train_df=train.drop(columns=[target_column_name],axis=1)\n",
    "target_features_train_df=train[target_column_name]\n",
    "\n",
    "input_feature_test_df=test.drop(columns=[target_column_name],axis=1)\n",
    "target_features_test_df=test[target_column_name]\n",
    "\n",
    "            \n",
    "input_feature_train_arr=input_feature_train_df\n",
    "input_feature_test_arr=input_feature_test_df\n",
    "\n",
    "train_arr = np.c_[input_feature_train_arr,np.array(target_features_train_df)]\n",
    "test_arr = np.c_[input_feature_test_arr,np.array(target_features_test_df)]\n"
   ]
  },
  {
   "cell_type": "code",
   "execution_count": 32,
   "id": "c7b2ef57",
   "metadata": {},
   "outputs": [
    {
     "data": {
      "text/plain": [
       "(8546, 11)"
      ]
     },
     "execution_count": 32,
     "metadata": {},
     "output_type": "execute_result"
    }
   ],
   "source": [
    "train_arr.shape"
   ]
  },
  {
   "cell_type": "code",
   "execution_count": 1,
   "id": "1b2b6530",
   "metadata": {},
   "outputs": [],
   "source": [
    "from Exception.exception import CustomException"
   ]
  },
  {
   "cell_type": "code",
   "execution_count": 2,
   "id": "0e2e9267",
   "metadata": {},
   "outputs": [
    {
     "name": "stdout",
     "output_type": "stream",
     "text": [
      "ascii\n"
     ]
    }
   ],
   "source": [
    "from chardet import detect\n",
    "\n",
    "with open('phisingData.csv', 'rb') as f:\n",
    "    result = detect(f.read())\n",
    "    encoding = result['encoding']\n",
    "    print(encoding)"
   ]
  },
  {
   "cell_type": "code",
   "execution_count": null,
   "id": "7a2cdbab",
   "metadata": {},
   "outputs": [],
   "source": []
  }
 ],
 "metadata": {
  "kernelspec": {
   "display_name": "base",
   "language": "python",
   "name": "python3"
  },
  "language_info": {
   "codemirror_mode": {
    "name": "ipython",
    "version": 3
   },
   "file_extension": ".py",
   "mimetype": "text/x-python",
   "name": "python",
   "nbconvert_exporter": "python",
   "pygments_lexer": "ipython3",
   "version": "3.11.7"
  }
 },
 "nbformat": 4,
 "nbformat_minor": 5
}
